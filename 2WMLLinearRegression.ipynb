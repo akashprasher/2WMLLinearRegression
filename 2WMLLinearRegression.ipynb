{
  "nbformat": 4,
  "nbformat_minor": 0,
  "metadata": {
    "colab": {
      "name": "Copy of 2WMLLinearRegression.ipynb",
      "provenance": [],
      "collapsed_sections": [],
      "include_colab_link": true
    },
    "kernelspec": {
      "name": "python3",
      "display_name": "Python 3"
    }
  },
  "cells": [
    {
      "cell_type": "markdown",
      "metadata": {
        "id": "view-in-github",
        "colab_type": "text"
      },
      "source": [
        "<a href=\"https://colab.research.google.com/github/akashprasher/2WMLLinearRegression/blob/master/2WMLLinearRegression.ipynb\" target=\"_parent\"><img src=\"https://colab.research.google.com/assets/colab-badge.svg\" alt=\"Open In Colab\"/></a>"
      ]
    },
    {
      "cell_type": "code",
      "metadata": {
        "id": "3J1HKzfIwaTO",
        "colab_type": "code",
        "colab": {
          "base_uri": "https://localhost:8080/",
          "height": 74
        },
        "outputId": "747f75e6-bc9e-4126-9874-9d1e0b159522"
      },
      "source": [
        "from sklearn.linear_model import  LinearRegression\n",
        "from sklearn.datasets import california_housing\n",
        "from sklearn.model_selection import train_test_split\n",
        "from sklearn.metrics import mean_squared_error\n",
        "import pandas as pd"
      ],
      "execution_count": null,
      "outputs": [
        {
          "output_type": "stream",
          "text": [
            "/usr/local/lib/python3.6/dist-packages/sklearn/utils/deprecation.py:144: FutureWarning: The sklearn.datasets.california_housing module is  deprecated in version 0.22 and will be removed in version 0.24. The corresponding classes / functions should instead be imported from sklearn.datasets. Anything that cannot be imported from sklearn.datasets is now part of the private API.\n",
            "  warnings.warn(message, FutureWarning)\n"
          ],
          "name": "stderr"
        }
      ]
    },
    {
      "cell_type": "code",
      "metadata": {
        "id": "GND76kNpw93X",
        "colab_type": "code",
        "colab": {
          "base_uri": "https://localhost:8080/",
          "height": 34
        },
        "outputId": "3bdf0c6a-82f2-4010-8428-9b9c495da1d5"
      },
      "source": [
        "data = california_housing.fetch_california_housing()"
      ],
      "execution_count": null,
      "outputs": [
        {
          "output_type": "stream",
          "text": [
            "Downloading Cal. housing from https://ndownloader.figshare.com/files/5976036 to /root/scikit_learn_data\n"
          ],
          "name": "stderr"
        }
      ]
    },
    {
      "cell_type": "code",
      "metadata": {
        "id": "6wGdeIL6xBVB",
        "colab_type": "code",
        "colab": {}
      },
      "source": [
        "train_data = data['data']\n",
        "target = data['target']\n",
        "description = data['DESCR']\n",
        "feature_names = data['feature_names']"
      ],
      "execution_count": null,
      "outputs": []
    },
    {
      "cell_type": "code",
      "metadata": {
        "id": "akVr_jvXyUzO",
        "colab_type": "code",
        "colab": {
          "base_uri": "https://localhost:8080/",
          "height": 151
        },
        "outputId": "caf1d1cb-2090-4eca-8b29-ca9e80b1c30d"
      },
      "source": [
        "\n",
        "#Features present in our data \n",
        "feature_names"
      ],
      "execution_count": null,
      "outputs": [
        {
          "output_type": "execute_result",
          "data": {
            "text/plain": [
              "['MedInc',\n",
              " 'HouseAge',\n",
              " 'AveRooms',\n",
              " 'AveBedrms',\n",
              " 'Population',\n",
              " 'AveOccup',\n",
              " 'Latitude',\n",
              " 'Longitude']"
            ]
          },
          "metadata": {
            "tags": []
          },
          "execution_count": 4
        }
      ]
    },
    {
      "cell_type": "code",
      "metadata": {
        "id": "fSQByraSyjS1",
        "colab_type": "code",
        "colab": {
          "base_uri": "https://localhost:8080/",
          "height": 252
        },
        "outputId": "25e16277-67c5-4697-fa91-8eec4fa505f0"
      },
      "source": [
        "#Our Training data\n",
        "print(train_data)\n",
        "#Type of our training data\n",
        "print(type(train_data))"
      ],
      "execution_count": null,
      "outputs": [
        {
          "output_type": "stream",
          "text": [
            "[[   8.3252       41.            6.98412698 ...    2.55555556\n",
            "    37.88       -122.23      ]\n",
            " [   8.3014       21.            6.23813708 ...    2.10984183\n",
            "    37.86       -122.22      ]\n",
            " [   7.2574       52.            8.28813559 ...    2.80225989\n",
            "    37.85       -122.24      ]\n",
            " ...\n",
            " [   1.7          17.            5.20554273 ...    2.3256351\n",
            "    39.43       -121.22      ]\n",
            " [   1.8672       18.            5.32951289 ...    2.12320917\n",
            "    39.43       -121.32      ]\n",
            " [   2.3886       16.            5.25471698 ...    2.61698113\n",
            "    39.37       -121.24      ]]\n",
            "<class 'numpy.ndarray'>\n"
          ],
          "name": "stdout"
        }
      ]
    },
    {
      "cell_type": "code",
      "metadata": {
        "id": "lU_1uhKqyuzL",
        "colab_type": "code",
        "colab": {
          "base_uri": "https://localhost:8080/",
          "height": 50
        },
        "outputId": "5d687295-a6d4-41de-d7c2-2a865af3c92e"
      },
      "source": [
        "#our target values\n",
        "print(target)\n",
        "#type of our target values\n",
        "print(type(target))"
      ],
      "execution_count": null,
      "outputs": [
        {
          "output_type": "stream",
          "text": [
            "[4.526 3.585 3.521 ... 0.923 0.847 0.894]\n",
            "<class 'numpy.ndarray'>\n"
          ],
          "name": "stdout"
        }
      ]
    },
    {
      "cell_type": "code",
      "metadata": {
        "id": "R2RzGa5ry3MV",
        "colab_type": "code",
        "colab": {}
      },
      "source": [
        "x_train,x_test,y_train,y_test = train_test_split(train_data,target)"
      ],
      "execution_count": null,
      "outputs": []
    },
    {
      "cell_type": "code",
      "metadata": {
        "id": "isoT9qJygToz",
        "colab_type": "code",
        "colab": {
          "base_uri": "https://localhost:8080/",
          "height": 34
        },
        "outputId": "00d30b89-13f0-4800-f0df-3f2a190a5552"
      },
      "source": [
        "y_test"
      ],
      "execution_count": null,
      "outputs": [
        {
          "output_type": "execute_result",
          "data": {
            "text/plain": [
              "array([1.132, 0.942, 1.202, ..., 0.62 , 2.417, 1.2  ])"
            ]
          },
          "metadata": {
            "tags": []
          },
          "execution_count": 8
        }
      ]
    },
    {
      "cell_type": "code",
      "metadata": {
        "id": "17jDDwqNzHZj",
        "colab_type": "code",
        "colab": {
          "base_uri": "https://localhost:8080/",
          "height": 34
        },
        "outputId": "6014fe1c-eb93-4aeb-daab-2338bd92f522"
      },
      "source": [
        "model = LinearRegression()\n",
        "model.fit(x_train,y_train)\n",
        "print(mean_squared_error(model.predict(x_test),y_test))"
      ],
      "execution_count": null,
      "outputs": [
        {
          "output_type": "stream",
          "text": [
            "0.5313742530494288\n"
          ],
          "name": "stdout"
        }
      ]
    },
    {
      "cell_type": "code",
      "metadata": {
        "id": "kKjkUytozR4G",
        "colab_type": "code",
        "colab": {}
      },
      "source": [
        "\n",
        "\n",
        "df = pd.read_csv('https://query.data.world/s/iuirxgl7bug2664hup5v4shxlhejd4',sep = ';')"
      ],
      "execution_count": null,
      "outputs": []
    },
    {
      "cell_type": "code",
      "metadata": {
        "id": "FaEIAJ-szoeu",
        "colab_type": "code",
        "colab": {
          "base_uri": "https://localhost:8080/",
          "height": 336
        },
        "outputId": "9713d06c-568e-4224-993b-a3d9b5bd184c"
      },
      "source": [
        "df.info()"
      ],
      "execution_count": null,
      "outputs": [
        {
          "output_type": "stream",
          "text": [
            "<class 'pandas.core.frame.DataFrame'>\n",
            "RangeIndex: 1599 entries, 0 to 1598\n",
            "Data columns (total 12 columns):\n",
            " #   Column                Non-Null Count  Dtype  \n",
            "---  ------                --------------  -----  \n",
            " 0   fixed acidity         1599 non-null   float64\n",
            " 1   volatile acidity      1599 non-null   float64\n",
            " 2   citric acid           1599 non-null   float64\n",
            " 3   residual sugar        1599 non-null   float64\n",
            " 4   chlorides             1599 non-null   float64\n",
            " 5   free sulfur dioxide   1599 non-null   float64\n",
            " 6   total sulfur dioxide  1599 non-null   float64\n",
            " 7   density               1599 non-null   float64\n",
            " 8   pH                    1599 non-null   float64\n",
            " 9   sulphates             1599 non-null   float64\n",
            " 10  alcohol               1599 non-null   float64\n",
            " 11  quality               1599 non-null   int64  \n",
            "dtypes: float64(11), int64(1)\n",
            "memory usage: 150.0 KB\n"
          ],
          "name": "stdout"
        }
      ]
    },
    {
      "cell_type": "code",
      "metadata": {
        "id": "JnllrrZC3_yW",
        "colab_type": "code",
        "colab": {
          "base_uri": "https://localhost:8080/",
          "height": 195
        },
        "outputId": "d527cd00-3fc8-4fc1-8fed-3b8c277db8a0"
      },
      "source": [
        "df.head()"
      ],
      "execution_count": null,
      "outputs": [
        {
          "output_type": "execute_result",
          "data": {
            "text/html": [
              "<div>\n",
              "<style scoped>\n",
              "    .dataframe tbody tr th:only-of-type {\n",
              "        vertical-align: middle;\n",
              "    }\n",
              "\n",
              "    .dataframe tbody tr th {\n",
              "        vertical-align: top;\n",
              "    }\n",
              "\n",
              "    .dataframe thead th {\n",
              "        text-align: right;\n",
              "    }\n",
              "</style>\n",
              "<table border=\"1\" class=\"dataframe\">\n",
              "  <thead>\n",
              "    <tr style=\"text-align: right;\">\n",
              "      <th></th>\n",
              "      <th>fixed acidity</th>\n",
              "      <th>volatile acidity</th>\n",
              "      <th>citric acid</th>\n",
              "      <th>residual sugar</th>\n",
              "      <th>chlorides</th>\n",
              "      <th>free sulfur dioxide</th>\n",
              "      <th>total sulfur dioxide</th>\n",
              "      <th>density</th>\n",
              "      <th>pH</th>\n",
              "      <th>sulphates</th>\n",
              "      <th>alcohol</th>\n",
              "      <th>quality</th>\n",
              "    </tr>\n",
              "  </thead>\n",
              "  <tbody>\n",
              "    <tr>\n",
              "      <th>0</th>\n",
              "      <td>7.4</td>\n",
              "      <td>0.70</td>\n",
              "      <td>0.00</td>\n",
              "      <td>1.9</td>\n",
              "      <td>0.076</td>\n",
              "      <td>11.0</td>\n",
              "      <td>34.0</td>\n",
              "      <td>0.9978</td>\n",
              "      <td>3.51</td>\n",
              "      <td>0.56</td>\n",
              "      <td>9.4</td>\n",
              "      <td>5</td>\n",
              "    </tr>\n",
              "    <tr>\n",
              "      <th>1</th>\n",
              "      <td>7.8</td>\n",
              "      <td>0.88</td>\n",
              "      <td>0.00</td>\n",
              "      <td>2.6</td>\n",
              "      <td>0.098</td>\n",
              "      <td>25.0</td>\n",
              "      <td>67.0</td>\n",
              "      <td>0.9968</td>\n",
              "      <td>3.20</td>\n",
              "      <td>0.68</td>\n",
              "      <td>9.8</td>\n",
              "      <td>5</td>\n",
              "    </tr>\n",
              "    <tr>\n",
              "      <th>2</th>\n",
              "      <td>7.8</td>\n",
              "      <td>0.76</td>\n",
              "      <td>0.04</td>\n",
              "      <td>2.3</td>\n",
              "      <td>0.092</td>\n",
              "      <td>15.0</td>\n",
              "      <td>54.0</td>\n",
              "      <td>0.9970</td>\n",
              "      <td>3.26</td>\n",
              "      <td>0.65</td>\n",
              "      <td>9.8</td>\n",
              "      <td>5</td>\n",
              "    </tr>\n",
              "    <tr>\n",
              "      <th>3</th>\n",
              "      <td>11.2</td>\n",
              "      <td>0.28</td>\n",
              "      <td>0.56</td>\n",
              "      <td>1.9</td>\n",
              "      <td>0.075</td>\n",
              "      <td>17.0</td>\n",
              "      <td>60.0</td>\n",
              "      <td>0.9980</td>\n",
              "      <td>3.16</td>\n",
              "      <td>0.58</td>\n",
              "      <td>9.8</td>\n",
              "      <td>6</td>\n",
              "    </tr>\n",
              "    <tr>\n",
              "      <th>4</th>\n",
              "      <td>7.4</td>\n",
              "      <td>0.70</td>\n",
              "      <td>0.00</td>\n",
              "      <td>1.9</td>\n",
              "      <td>0.076</td>\n",
              "      <td>11.0</td>\n",
              "      <td>34.0</td>\n",
              "      <td>0.9978</td>\n",
              "      <td>3.51</td>\n",
              "      <td>0.56</td>\n",
              "      <td>9.4</td>\n",
              "      <td>5</td>\n",
              "    </tr>\n",
              "  </tbody>\n",
              "</table>\n",
              "</div>"
            ],
            "text/plain": [
              "   fixed acidity  volatile acidity  citric acid  ...  sulphates  alcohol  quality\n",
              "0            7.4              0.70         0.00  ...       0.56      9.4        5\n",
              "1            7.8              0.88         0.00  ...       0.68      9.8        5\n",
              "2            7.8              0.76         0.04  ...       0.65      9.8        5\n",
              "3           11.2              0.28         0.56  ...       0.58      9.8        6\n",
              "4            7.4              0.70         0.00  ...       0.56      9.4        5\n",
              "\n",
              "[5 rows x 12 columns]"
            ]
          },
          "metadata": {
            "tags": []
          },
          "execution_count": 12
        }
      ]
    },
    {
      "cell_type": "code",
      "metadata": {
        "id": "Bmv1A_GV4zWZ",
        "colab_type": "code",
        "colab": {}
      },
      "source": [
        "df.dropna(inplace = True)"
      ],
      "execution_count": null,
      "outputs": []
    },
    {
      "cell_type": "code",
      "metadata": {
        "id": "0did2-Ac4PzW",
        "colab_type": "code",
        "colab": {}
      },
      "source": [
        "train_data = df.drop('quality',axis = 1)\n",
        "y_train = df['quality']\n",
        "x_train,x_test,y_train,y_test = train_test_split(train_data,y_train)"
      ],
      "execution_count": null,
      "outputs": []
    },
    {
      "cell_type": "code",
      "metadata": {
        "id": "-LTBkkrp4xwT",
        "colab_type": "code",
        "colab": {}
      },
      "source": [
        ""
      ],
      "execution_count": null,
      "outputs": []
    },
    {
      "cell_type": "code",
      "metadata": {
        "id": "x4_uWq024pw7",
        "colab_type": "code",
        "colab": {
          "base_uri": "https://localhost:8080/",
          "height": 34
        },
        "outputId": "026770cd-b2eb-4d30-f881-d32f7fbf791d"
      },
      "source": [
        "model = LinearRegression()\n",
        "model.fit(x_train,y_train)\n",
        "print(mean_squared_error(model.predict(x_test),y_test))"
      ],
      "execution_count": null,
      "outputs": [
        {
          "output_type": "stream",
          "text": [
            "0.43312402949362294\n"
          ],
          "name": "stdout"
        }
      ]
    },
    {
      "cell_type": "code",
      "metadata": {
        "id": "7ujetzPD4vqJ",
        "colab_type": "code",
        "colab": {}
      },
      "source": [
        "import pandas as pd \n",
        "import numpy as np\n",
        "import matplotlib.pyplot as plt\n",
        "np.random.seed(1)\n"
      ],
      "execution_count": null,
      "outputs": []
    },
    {
      "cell_type": "code",
      "metadata": {
        "id": "rp3dBhH8afM9",
        "colab_type": "code",
        "colab": {
          "base_uri": "https://localhost:8080/",
          "height": 34
        },
        "outputId": "694d54f7-12b1-4efc-99a7-e37119eec45d"
      },
      "source": [
        "np.random.rand()"
      ],
      "execution_count": null,
      "outputs": [
        {
          "output_type": "execute_result",
          "data": {
            "text/plain": [
              "0.417022004702574"
            ]
          },
          "metadata": {
            "tags": []
          },
          "execution_count": 17
        }
      ]
    },
    {
      "cell_type": "code",
      "metadata": {
        "id": "H3uBq3NZZRsS",
        "colab_type": "code",
        "colab": {}
      },
      "source": [
        "supervised_image_data  = pd.DataFrame({'feature1':np.random.rand(20),'feature2':np.random.rand(20),\n",
        "                                       'feature3':np.random.randn(20),'feature4':np.random.randn(20),\n",
        "                                       'target':np.random.rand(20)*100+22\n",
        "                                      })"
      ],
      "execution_count": null,
      "outputs": []
    },
    {
      "cell_type": "code",
      "metadata": {
        "id": "lnNMkbWqa5VS",
        "colab_type": "code",
        "colab": {
          "base_uri": "https://localhost:8080/",
          "height": 639
        },
        "outputId": "ecee4e61-e594-4ab2-be75-7fa265617e10"
      },
      "source": [
        "supervised_image_data"
      ],
      "execution_count": null,
      "outputs": [
        {
          "output_type": "execute_result",
          "data": {
            "text/html": [
              "<div>\n",
              "<style scoped>\n",
              "    .dataframe tbody tr th:only-of-type {\n",
              "        vertical-align: middle;\n",
              "    }\n",
              "\n",
              "    .dataframe tbody tr th {\n",
              "        vertical-align: top;\n",
              "    }\n",
              "\n",
              "    .dataframe thead th {\n",
              "        text-align: right;\n",
              "    }\n",
              "</style>\n",
              "<table border=\"1\" class=\"dataframe\">\n",
              "  <thead>\n",
              "    <tr style=\"text-align: right;\">\n",
              "      <th></th>\n",
              "      <th>feature1</th>\n",
              "      <th>feature2</th>\n",
              "      <th>feature3</th>\n",
              "      <th>feature4</th>\n",
              "      <th>target</th>\n",
              "    </tr>\n",
              "  </thead>\n",
              "  <tbody>\n",
              "    <tr>\n",
              "      <th>0</th>\n",
              "      <td>0.720324</td>\n",
              "      <td>0.968262</td>\n",
              "      <td>-0.850052</td>\n",
              "      <td>-0.580797</td>\n",
              "      <td>118.484005</td>\n",
              "    </tr>\n",
              "    <tr>\n",
              "      <th>1</th>\n",
              "      <td>0.000114</td>\n",
              "      <td>0.313424</td>\n",
              "      <td>0.960820</td>\n",
              "      <td>-0.110754</td>\n",
              "      <td>88.344150</td>\n",
              "    </tr>\n",
              "    <tr>\n",
              "      <th>2</th>\n",
              "      <td>0.302333</td>\n",
              "      <td>0.692323</td>\n",
              "      <td>-0.217418</td>\n",
              "      <td>2.042029</td>\n",
              "      <td>84.169572</td>\n",
              "    </tr>\n",
              "    <tr>\n",
              "      <th>3</th>\n",
              "      <td>0.146756</td>\n",
              "      <td>0.876389</td>\n",
              "      <td>0.158515</td>\n",
              "      <td>0.447521</td>\n",
              "      <td>33.474597</td>\n",
              "    </tr>\n",
              "    <tr>\n",
              "      <th>4</th>\n",
              "      <td>0.092339</td>\n",
              "      <td>0.894607</td>\n",
              "      <td>0.873418</td>\n",
              "      <td>0.683384</td>\n",
              "      <td>116.948926</td>\n",
              "    </tr>\n",
              "    <tr>\n",
              "      <th>5</th>\n",
              "      <td>0.186260</td>\n",
              "      <td>0.085044</td>\n",
              "      <td>-0.111383</td>\n",
              "      <td>0.022886</td>\n",
              "      <td>66.991213</td>\n",
              "    </tr>\n",
              "    <tr>\n",
              "      <th>6</th>\n",
              "      <td>0.345561</td>\n",
              "      <td>0.039055</td>\n",
              "      <td>-1.038039</td>\n",
              "      <td>0.857234</td>\n",
              "      <td>79.838961</td>\n",
              "    </tr>\n",
              "    <tr>\n",
              "      <th>7</th>\n",
              "      <td>0.396767</td>\n",
              "      <td>0.169830</td>\n",
              "      <td>-1.009480</td>\n",
              "      <td>0.183931</td>\n",
              "      <td>62.813680</td>\n",
              "    </tr>\n",
              "    <tr>\n",
              "      <th>8</th>\n",
              "      <td>0.538817</td>\n",
              "      <td>0.878143</td>\n",
              "      <td>-1.058257</td>\n",
              "      <td>-0.416112</td>\n",
              "      <td>45.702698</td>\n",
              "    </tr>\n",
              "    <tr>\n",
              "      <th>9</th>\n",
              "      <td>0.419195</td>\n",
              "      <td>0.098347</td>\n",
              "      <td>0.656284</td>\n",
              "      <td>1.250050</td>\n",
              "      <td>112.337952</td>\n",
              "    </tr>\n",
              "    <tr>\n",
              "      <th>10</th>\n",
              "      <td>0.685220</td>\n",
              "      <td>0.421108</td>\n",
              "      <td>-0.062492</td>\n",
              "      <td>1.248300</td>\n",
              "      <td>79.367949</td>\n",
              "    </tr>\n",
              "    <tr>\n",
              "      <th>11</th>\n",
              "      <td>0.204452</td>\n",
              "      <td>0.957890</td>\n",
              "      <td>-1.738654</td>\n",
              "      <td>-0.757674</td>\n",
              "      <td>22.287033</td>\n",
              "    </tr>\n",
              "    <tr>\n",
              "      <th>12</th>\n",
              "      <td>0.878117</td>\n",
              "      <td>0.533165</td>\n",
              "      <td>0.103163</td>\n",
              "      <td>0.588294</td>\n",
              "      <td>83.714491</td>\n",
              "    </tr>\n",
              "    <tr>\n",
              "      <th>13</th>\n",
              "      <td>0.027388</td>\n",
              "      <td>0.691877</td>\n",
              "      <td>-0.621667</td>\n",
              "      <td>0.346859</td>\n",
              "      <td>54.664490</td>\n",
              "    </tr>\n",
              "    <tr>\n",
              "      <th>14</th>\n",
              "      <td>0.670468</td>\n",
              "      <td>0.315516</td>\n",
              "      <td>0.275718</td>\n",
              "      <td>1.367033</td>\n",
              "      <td>74.705810</td>\n",
              "    </tr>\n",
              "    <tr>\n",
              "      <th>15</th>\n",
              "      <td>0.417305</td>\n",
              "      <td>0.686501</td>\n",
              "      <td>-1.090675</td>\n",
              "      <td>0.673716</td>\n",
              "      <td>110.594210</td>\n",
              "    </tr>\n",
              "    <tr>\n",
              "      <th>16</th>\n",
              "      <td>0.558690</td>\n",
              "      <td>0.834626</td>\n",
              "      <td>-0.609985</td>\n",
              "      <td>-1.291563</td>\n",
              "      <td>57.726976</td>\n",
              "    </tr>\n",
              "    <tr>\n",
              "      <th>17</th>\n",
              "      <td>0.140387</td>\n",
              "      <td>0.018288</td>\n",
              "      <td>0.306412</td>\n",
              "      <td>-0.848244</td>\n",
              "      <td>112.853515</td>\n",
              "    </tr>\n",
              "    <tr>\n",
              "      <th>18</th>\n",
              "      <td>0.198101</td>\n",
              "      <td>0.750144</td>\n",
              "      <td>1.691826</td>\n",
              "      <td>-0.166600</td>\n",
              "      <td>84.336012</td>\n",
              "    </tr>\n",
              "    <tr>\n",
              "      <th>19</th>\n",
              "      <td>0.800745</td>\n",
              "      <td>0.988861</td>\n",
              "      <td>-0.747954</td>\n",
              "      <td>0.917196</td>\n",
              "      <td>23.582124</td>\n",
              "    </tr>\n",
              "  </tbody>\n",
              "</table>\n",
              "</div>"
            ],
            "text/plain": [
              "    feature1  feature2  feature3  feature4      target\n",
              "0   0.720324  0.968262 -0.850052 -0.580797  118.484005\n",
              "1   0.000114  0.313424  0.960820 -0.110754   88.344150\n",
              "2   0.302333  0.692323 -0.217418  2.042029   84.169572\n",
              "3   0.146756  0.876389  0.158515  0.447521   33.474597\n",
              "4   0.092339  0.894607  0.873418  0.683384  116.948926\n",
              "5   0.186260  0.085044 -0.111383  0.022886   66.991213\n",
              "6   0.345561  0.039055 -1.038039  0.857234   79.838961\n",
              "7   0.396767  0.169830 -1.009480  0.183931   62.813680\n",
              "8   0.538817  0.878143 -1.058257 -0.416112   45.702698\n",
              "9   0.419195  0.098347  0.656284  1.250050  112.337952\n",
              "10  0.685220  0.421108 -0.062492  1.248300   79.367949\n",
              "11  0.204452  0.957890 -1.738654 -0.757674   22.287033\n",
              "12  0.878117  0.533165  0.103163  0.588294   83.714491\n",
              "13  0.027388  0.691877 -0.621667  0.346859   54.664490\n",
              "14  0.670468  0.315516  0.275718  1.367033   74.705810\n",
              "15  0.417305  0.686501 -1.090675  0.673716  110.594210\n",
              "16  0.558690  0.834626 -0.609985 -1.291563   57.726976\n",
              "17  0.140387  0.018288  0.306412 -0.848244  112.853515\n",
              "18  0.198101  0.750144  1.691826 -0.166600   84.336012\n",
              "19  0.800745  0.988861 -0.747954  0.917196   23.582124"
            ]
          },
          "metadata": {
            "tags": []
          },
          "execution_count": 19
        }
      ]
    },
    {
      "cell_type": "code",
      "metadata": {
        "id": "B-WKs96Wa6r-",
        "colab_type": "code",
        "colab": {}
      },
      "source": [
        "x = np.random.rand(20)*100\n",
        "e = np.random.randn(20)*20\n",
        "y = x*5+e"
      ],
      "execution_count": null,
      "outputs": []
    },
    {
      "cell_type": "code",
      "metadata": {
        "id": "ketay27Lt2Sy",
        "colab_type": "code",
        "colab": {
          "base_uri": "https://localhost:8080/",
          "height": 279
        },
        "outputId": "e05367cb-f222-490c-d67c-d9494041a722"
      },
      "source": [
        "plt.scatter(x,y)\n",
        "plt.plot(x,x*5+20,'r')\n",
        "plt.xlabel('X values')\n",
        "plt.ylabel('Y values')\n",
        "plt.show()"
      ],
      "execution_count": null,
      "outputs": [
        {
          "output_type": "display_data",
          "data": {
            "image/png": "[encoded data removed]",
            "text/plain": [
              "<Figure size 432x288 with 1 Axes>"
            ]
          },
          "metadata": {
            "tags": [],
            "needs_background": "light"
          }
        }
      ]
    },
    {
      "cell_type": "code",
      "metadata": {
        "id": "cMFpt5QFt_9z",
        "colab_type": "code",
        "colab": {}
      },
      "source": [
        ""
      ],
      "execution_count": null,
      "outputs": []
    }
  ]
}